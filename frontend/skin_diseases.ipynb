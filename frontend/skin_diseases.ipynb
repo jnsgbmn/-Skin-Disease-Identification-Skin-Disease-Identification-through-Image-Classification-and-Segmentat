{
 "cells": [
  {
   "cell_type": "code",
   "execution_count": 12,
   "metadata": {},
   "outputs": [],
   "source": [
    "import pandas as pd\n",
    "import numpy as np\n",
    "import json\n",
    "from fastai.vision.all import *\n",
    "from PIL import Image\n",
    "import pathlib\n",
    "temp = pathlib.PosixPath\n",
    "pathlib.PosixPath = pathlib.WindowsPath"
   ]
  },
  {
   "cell_type": "code",
   "execution_count": 13,
   "metadata": {},
   "outputs": [],
   "source": [
    "def get_x(row): return row['image_id']\n",
    "def get_y(row): return row['label']"
   ]
  },
  {
   "cell_type": "code",
   "execution_count": 14,
   "metadata": {},
   "outputs": [],
   "source": [
    "def classify_image(img):\n",
    "    mapping = {0: 'Actinic keratosis',\n",
    "    1: 'Basal cell carcinoma',\n",
    "    2: 'Benign keratosis',\n",
    "    3: 'Dermatofibroma',\n",
    "    4: 'Melanocytic nevus',\n",
    "    5: 'Melanoma',\n",
    "    6: 'Squamous cell carcinoma',\n",
    "    7: 'Vascular lesion',\n",
    "    8: 'Normal'}\n",
    "    print(img)\n",
    "    pred_idx,_,probs = learn.predict(img)\n",
    "    pred_class = mapping[int(pred_idx)]\n",
    "    prob = probs.max()\n",
    "    prob = prob.numpy()\n",
    "    return pred_class,prob"
   ]
  },
  {
   "cell_type": "code",
   "execution_count": 15,
   "metadata": {},
   "outputs": [
    {
     "ename": "AttributeError",
     "evalue": "'dict' object has no attribute 'dls'",
     "output_type": "error",
     "traceback": [
      "\u001b[0;31m---------------------------------------------------------------------------\u001b[0m",
      "\u001b[0;31mAttributeError\u001b[0m                            Traceback (most recent call last)",
      "Cell \u001b[0;32mIn[15], line 1\u001b[0m\n\u001b[0;32m----> 1\u001b[0m learn \u001b[39m=\u001b[39m load_learner(\u001b[39m'\u001b[39;49m\u001b[39mresnet.pkl\u001b[39;49m\u001b[39m'\u001b[39;49m)\n",
      "File \u001b[0;32m~/opt/anaconda3/envs/env/lib/python3.9/site-packages/fastai/learner.py:451\u001b[0m, in \u001b[0;36mload_learner\u001b[0;34m(fname, cpu, pickle_module)\u001b[0m\n\u001b[1;32m    449\u001b[0m     \u001b[39mraise\u001b[39;00m\n\u001b[1;32m    450\u001b[0m \u001b[39mif\u001b[39;00m cpu: \n\u001b[0;32m--> 451\u001b[0m     res\u001b[39m.\u001b[39;49mdls\u001b[39m.\u001b[39mcpu()\n\u001b[1;32m    452\u001b[0m     \u001b[39mif\u001b[39;00m \u001b[39mhasattr\u001b[39m(res, \u001b[39m'\u001b[39m\u001b[39mchannels_last\u001b[39m\u001b[39m'\u001b[39m): res \u001b[39m=\u001b[39m res\u001b[39m.\u001b[39mto_contiguous(to_fp32\u001b[39m=\u001b[39m\u001b[39mTrue\u001b[39;00m)\n\u001b[1;32m    453\u001b[0m     \u001b[39melif\u001b[39;00m \u001b[39mhasattr\u001b[39m(res, \u001b[39m'\u001b[39m\u001b[39mmixed_precision\u001b[39m\u001b[39m'\u001b[39m): res \u001b[39m=\u001b[39m res\u001b[39m.\u001b[39mto_fp32()\n",
      "\u001b[0;31mAttributeError\u001b[0m: 'dict' object has no attribute 'dls'"
     ]
    }
   ],
   "source": [
    "learn = load_learner('resnet.pkl')"
   ]
  }
 ],
 "metadata": {
  "kernelspec": {
   "display_name": "env",
   "language": "python",
   "name": "python3"
  },
  "language_info": {
   "codemirror_mode": {
    "name": "ipython",
    "version": 3
   },
   "file_extension": ".py",
   "mimetype": "text/x-python",
   "name": "python",
   "nbconvert_exporter": "python",
   "pygments_lexer": "ipython3",
   "version": "3.9.16"
  },
  "orig_nbformat": 4
 },
 "nbformat": 4,
 "nbformat_minor": 2
}
