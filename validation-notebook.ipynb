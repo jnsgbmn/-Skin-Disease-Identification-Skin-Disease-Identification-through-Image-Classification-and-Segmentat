{
 "cells": [
  {
   "cell_type": "code",
   "execution_count": 17,
   "metadata": {},
   "outputs": [
    {
     "ename": "ModuleNotFoundError",
     "evalue": "No module named 'skimage'",
     "output_type": "error",
     "traceback": [
      "\u001b[0;31m---------------------------------------------------------------------------\u001b[0m",
      "\u001b[0;31mModuleNotFoundError\u001b[0m                       Traceback (most recent call last)",
      "Cell \u001b[0;32mIn[17], line 8\u001b[0m\n\u001b[1;32m      6\u001b[0m \u001b[39mimport\u001b[39;00m \u001b[39mcv2\u001b[39;00m\n\u001b[1;32m      7\u001b[0m \u001b[39mimport\u001b[39;00m \u001b[39mnumpy\u001b[39;00m \u001b[39mas\u001b[39;00m \u001b[39mnp\u001b[39;00m\n\u001b[0;32m----> 8\u001b[0m \u001b[39mfrom\u001b[39;00m \u001b[39mskimage\u001b[39;00m\u001b[39m.\u001b[39;00m\u001b[39mutil\u001b[39;00m \u001b[39mimport\u001b[39;00m random_noise\n",
      "\u001b[0;31mModuleNotFoundError\u001b[0m: No module named 'skimage'"
     ]
    }
   ],
   "source": [
    "import os\n",
    "from os import listdir\n",
    "from PIL import Image, ImageFilter\n",
    "import shutil\n",
    "import random\n",
    "import cv2\n",
    "import numpy as np\n",
    "from skimage.util import random_noise"
   ]
  },
  {
   "cell_type": "code",
   "execution_count": 10,
   "metadata": {},
   "outputs": [
    {
     "name": "stdout",
     "output_type": "stream",
     "text": [
      "Collecting opencv-python\n",
      "  Downloading opencv_python-4.7.0.72-cp37-abi3-macosx_10_16_x86_64.whl (53.9 MB)\n",
      "\u001b[2K     \u001b[38;2;114;156;31m━━━━━━━━━━━━━━━━━━━━━━━━━━━━━━━━━━━━━━━━\u001b[0m \u001b[32m53.9/53.9 MB\u001b[0m \u001b[31m7.9 MB/s\u001b[0m eta \u001b[36m0:00:00\u001b[0m0m eta \u001b[36m0:00:01\u001b[0m0:01\u001b[0m01\u001b[0mm\n",
      "\u001b[?25hCollecting numpy>=1.19.3\n",
      "  Downloading numpy-1.24.2-cp39-cp39-macosx_10_9_x86_64.whl (19.8 MB)\n",
      "\u001b[2K     \u001b[38;2;114;156;31m━━━━━━━━━━━━━━━━━━━━━━━━━━━━━━━━━━━━━━━━\u001b[0m \u001b[32m19.8/19.8 MB\u001b[0m \u001b[31m8.5 MB/s\u001b[0m eta \u001b[36m0:00:00\u001b[0mm eta \u001b[36m0:00:01\u001b[0m[36m0:00:01\u001b[0mm\n",
      "\u001b[?25hInstalling collected packages: numpy, opencv-python\n",
      "Successfully installed numpy-1.24.2 opencv-python-4.7.0.72\n"
     ]
    }
   ],
   "source": [
    "!pip install opencv-python"
   ]
  },
  {
   "cell_type": "code",
   "execution_count": 11,
   "metadata": {},
   "outputs": [],
   "source": [
    "def add_gaussian_noise(image):\n",
    "    cv_image = np.array(image) \n",
    "    \n",
    "    \n",
    "    image = cv2.cvtColor(cv_image, cv2.COLOR_RGB2BGR)\n",
    "    noisy_image = random_noise(image, mode='gaussian', seed=None, clip=True)\n",
    "    noisy_image = np.array(255*noisy_image, dtype = 'uint8')\n",
    "    noisy_image = cv2.cvtColor(noisy_image, cv2.COLOR_BGR2RGB)\n",
    "    return Image.fromarray(noisy_image)"
   ]
  },
  {
   "cell_type": "code",
   "execution_count": 12,
   "metadata": {},
   "outputs": [],
   "source": [
    "def double_data(src,dst):\n",
    "    files = os.listdir(src)\n",
    "    for file in files:\n",
    "        val = random.choice([90, 270])\n",
    "        img = Image.open(src+\"/\"+file)\n",
    "        if random.random() < .3:\n",
    "            img = add_gaussian_noise(img)\n",
    "        img.save(dst+\"/\"+file)\n",
    "        img = img.rotate(val,expand = True)\n",
    "        img.save(dst+\"/\"+file.split(\".\")[0]+\"_rot.jpg\")"
   ]
  },
  {
   "cell_type": "code",
   "execution_count": 13,
   "metadata": {},
   "outputs": [],
   "source": [
    "def upsample_200(src,dst):\n",
    "    files = os.listdir(src)\n",
    "    for i,file in enumerate(files):\n",
    "        if i<200:\n",
    "            val = random.choice([90, 270])\n",
    "            img = Image.open(src+\"/\"+file)\n",
    "            if random.random() < .3:\n",
    "#                 img = img.filter(ImageFilter.GaussianBlur(radius = 3))\n",
    "                img = add_gaussian_noise(img)\n",
    "\n",
    "            img.save(dst+\"/\"+file)\n",
    "            img = img.rotate(val,expand = True)\n",
    "            img.save(dst+\"/\"+file.split(\".\")[0]+\"_rot.jpg\")\n",
    "        else:\n",
    "            shutil.copy(src+\"/\"+file,dst+\"/\"+file)"
   ]
  },
  {
   "cell_type": "code",
   "execution_count": 14,
   "metadata": {},
   "outputs": [],
   "source": [
    "def limit_to_1200(src,dst):\n",
    "    files = os.listdir(src)\n",
    "    for i,file in enumerate(files):\n",
    "        img = Image.open(src+\"/\"+file)\n",
    "        if random.random() < .3:\n",
    "                img = add_gaussian_noise(img)\n",
    "        img.save(dst+\"/\"+file.split(\".\")[0]+\".jpg\")\n",
    "        if i>1200:\n",
    "            break\n"
   ]
  },
  {
   "cell_type": "code",
   "execution_count": 15,
   "metadata": {},
   "outputs": [],
   "source": [
    "def times_ten_data(src,dst):\n",
    "    files = os.listdir(src)\n",
    "    for file in files:\n",
    "        img = Image.open(f\"{src}/{file}\")\n",
    "        img = img.convert('RGB')\n",
    "        img.save(dst+\"/\"+file)\n",
    "        img1 = img.rotate(90,expand = True)\n",
    "        img1.save(dst+\"/\"+file.split(\".\")[0]+\"_90.jpg\")\n",
    "        img2 = img.rotate(270,expand = True)\n",
    "        img2.save(dst+\"/\"+str(file.split(\".\")[0])+\"_270.jpg\")\n",
    "        \n",
    "        img3= img.transpose(Image.FLIP_LEFT_RIGHT)\n",
    "        img3.save(dst+\"/\"+str(file.split(\".\")[0])+\"_mir.jpg\")\n",
    "        img4 = img.transpose(Image.FLIP_TOP_BOTTOM)\n",
    "        img4.save(dst+\"/\"+str(file.split(\".\")[0])+\"_flp.jpg\")\n",
    "        \n",
    "        img = Image.open(f\"{src}/{file}\")\n",
    "        img = img.convert('RGB')\n",
    "        img = add_gaussian_noise(img)\n",
    "        img.save(dst+\"/\"+file)\n",
    "        img1 = img.rotate(90,expand = True)\n",
    "        img1.save(dst+\"/\"+file.split(\".\")[0]+\"_90_noise.jpg\")\n",
    "        img2 = img.rotate(270,expand = True)\n",
    "        img2.save(dst+\"/\"+str(file.split(\".\")[0])+\"_270_noise.jpg\")\n",
    "        \n",
    "        img3= img.transpose(Image.FLIP_LEFT_RIGHT)\n",
    "        img3.save(dst+\"/\"+str(file.split(\".\")[0])+\"_mir_noise.jpg\")\n",
    "        img4 = img.transpose(Image.FLIP_TOP_BOTTOM)\n",
    "        img4.save(dst+\"/\"+str(file.split(\".\")[0])+\"_flp_noise.jpg\")"
   ]
  },
  {
   "cell_type": "code",
   "execution_count": 16,
   "metadata": {},
   "outputs": [
    {
     "ename": "NameError",
     "evalue": "name 'np' is not defined",
     "output_type": "error",
     "traceback": [
      "\u001b[0;31m---------------------------------------------------------------------------\u001b[0m",
      "\u001b[0;31mNameError\u001b[0m                                 Traceback (most recent call last)",
      "Cell \u001b[0;32mIn[16], line 3\u001b[0m\n\u001b[1;32m      1\u001b[0m in_path \u001b[39m=\u001b[39m \u001b[39m\"\u001b[39m\u001b[39m./Data/\u001b[39m\u001b[39m\"\u001b[39m \n\u001b[1;32m      2\u001b[0m out_path \u001b[39m=\u001b[39m  \u001b[39m\"\u001b[39m\u001b[39m./Data/output/\u001b[39m\u001b[39m\"\u001b[39m\n\u001b[0;32m----> 3\u001b[0m times_ten_data(in_path\u001b[39m+\u001b[39;49m\u001b[39m\"\u001b[39;49m\u001b[39mmonkeypox\u001b[39;49m\u001b[39m\"\u001b[39;49m,out_path\u001b[39m+\u001b[39;49m\u001b[39m\"\u001b[39;49m\u001b[39mmonkeypox\u001b[39;49m\u001b[39m\"\u001b[39;49m)\n\u001b[1;32m      4\u001b[0m times_ten_data(in_path\u001b[39m+\u001b[39m\u001b[39m\"\u001b[39m\u001b[39mwarts\u001b[39m\u001b[39m\"\u001b[39m,out_path\u001b[39m+\u001b[39m\u001b[39m\"\u001b[39m\u001b[39mwarts\u001b[39m\u001b[39m\"\u001b[39m)\n\u001b[1;32m      5\u001b[0m times_ten_data(in_path\u001b[39m+\u001b[39m\u001b[39m\"\u001b[39m\u001b[39menczema\u001b[39m\u001b[39m\"\u001b[39m,out_path\u001b[39m+\u001b[39m\u001b[39m\"\u001b[39m\u001b[39menczema\u001b[39m\u001b[39m\"\u001b[39m)\n",
      "Cell \u001b[0;32mIn[15], line 19\u001b[0m, in \u001b[0;36mtimes_ten_data\u001b[0;34m(src, dst)\u001b[0m\n\u001b[1;32m     17\u001b[0m img \u001b[39m=\u001b[39m Image\u001b[39m.\u001b[39mopen(\u001b[39mf\u001b[39m\u001b[39m\"\u001b[39m\u001b[39m{\u001b[39;00msrc\u001b[39m}\u001b[39;00m\u001b[39m/\u001b[39m\u001b[39m{\u001b[39;00mfile\u001b[39m}\u001b[39;00m\u001b[39m\"\u001b[39m)\n\u001b[1;32m     18\u001b[0m img \u001b[39m=\u001b[39m img\u001b[39m.\u001b[39mconvert(\u001b[39m'\u001b[39m\u001b[39mRGB\u001b[39m\u001b[39m'\u001b[39m)\n\u001b[0;32m---> 19\u001b[0m img \u001b[39m=\u001b[39m add_gaussian_noise(img)\n\u001b[1;32m     20\u001b[0m img\u001b[39m.\u001b[39msave(dst\u001b[39m+\u001b[39m\u001b[39m\"\u001b[39m\u001b[39m/\u001b[39m\u001b[39m\"\u001b[39m\u001b[39m+\u001b[39mfile)\n\u001b[1;32m     21\u001b[0m img1 \u001b[39m=\u001b[39m img\u001b[39m.\u001b[39mrotate(\u001b[39m90\u001b[39m,expand \u001b[39m=\u001b[39m \u001b[39mTrue\u001b[39;00m)\n",
      "Cell \u001b[0;32mIn[11], line 2\u001b[0m, in \u001b[0;36madd_gaussian_noise\u001b[0;34m(image)\u001b[0m\n\u001b[1;32m      1\u001b[0m \u001b[39mdef\u001b[39;00m \u001b[39madd_gaussian_noise\u001b[39m(image):\n\u001b[0;32m----> 2\u001b[0m     cv_image \u001b[39m=\u001b[39m np\u001b[39m.\u001b[39marray(image) \n\u001b[1;32m      5\u001b[0m     image \u001b[39m=\u001b[39m cv2\u001b[39m.\u001b[39mcvtColor(cv_image, cv2\u001b[39m.\u001b[39mCOLOR_RGB2BGR)\n\u001b[1;32m      6\u001b[0m     noisy_image \u001b[39m=\u001b[39m random_noise(image, mode\u001b[39m=\u001b[39m\u001b[39m'\u001b[39m\u001b[39mgaussian\u001b[39m\u001b[39m'\u001b[39m, seed\u001b[39m=\u001b[39m\u001b[39mNone\u001b[39;00m, clip\u001b[39m=\u001b[39m\u001b[39mTrue\u001b[39;00m)\n",
      "\u001b[0;31mNameError\u001b[0m: name 'np' is not defined"
     ]
    }
   ],
   "source": [
    "in_path = \"./Data/\" \n",
    "out_path =  \"./Data/output/\"\n",
    "times_ten_data(in_path+\"monkeypox\",out_path+\"monkeypox\")\n",
    "times_ten_data(in_path+\"warts\",out_path+\"warts\")\n",
    "times_ten_data(in_path+\"enczema\",out_path+\"enczema\")\n",
    "times_ten_data(in_path+\"chickenpox\",out_path+\"chickenpox\")\n",
    "times_ten_data(in_path+\"corns\",out_path+\"corns\")"
   ]
  },
  {
   "cell_type": "code",
   "execution_count": null,
   "metadata": {},
   "outputs": [
    {
     "data": {
      "text/plain": [
       "'/Users/joaquin/Desktop/thesis-repo/aurgumented_data.zip.zip'"
      ]
     },
     "execution_count": 36,
     "metadata": {},
     "output_type": "execute_result"
    }
   ],
   "source": [
    "import shutil\n",
    "shutil.make_archive(\"aurgumented_data.zip\",'zip',\"./Data/output/\")"
   ]
  },
  {
   "cell_type": "code",
   "execution_count": null,
   "metadata": {},
   "outputs": [
    {
     "data": {
      "text/plain": [
       "'/Users/joaquin/Desktop/thesis-repo/aurgumented_data.zip'"
      ]
     },
     "execution_count": 38,
     "metadata": {},
     "output_type": "execute_result"
    }
   ],
   "source": [
    "import shutil\n",
    "shutil.make_archive(\"aurgumented_data\",'zip',\"./Data/output/\")"
   ]
  },
  {
   "cell_type": "code",
   "execution_count": null,
   "metadata": {},
   "outputs": [
    {
     "data": {
      "text/html": [
       "<a href='aurgumented_data.zip' target='_blank'>aurgumented_data.zip</a><br>"
      ],
      "text/plain": [
       "/Users/joaquin/Desktop/thesis-repo/aurgumented_data.zip"
      ]
     },
     "execution_count": 39,
     "metadata": {},
     "output_type": "execute_result"
    }
   ],
   "source": [
    "from IPython.display import FileLink\n",
    "FileLink(r'aurgumented_data.zip')"
   ]
  },
  {
   "cell_type": "code",
   "execution_count": null,
   "metadata": {},
   "outputs": [
    {
     "ename": "ModuleNotFoundError",
     "evalue": "No module named 'fastai'",
     "output_type": "error",
     "traceback": [
      "\u001b[0;31m---------------------------------------------------------------------------\u001b[0m",
      "\u001b[0;31mModuleNotFoundError\u001b[0m                       Traceback (most recent call last)",
      "Cell \u001b[0;32mIn[5], line 4\u001b[0m\n\u001b[1;32m      2\u001b[0m \u001b[39mimport\u001b[39;00m \u001b[39mpandas\u001b[39;00m \u001b[39mas\u001b[39;00m \u001b[39mpd\u001b[39;00m\n\u001b[1;32m      3\u001b[0m \u001b[39mimport\u001b[39;00m \u001b[39mos\u001b[39;00m\n\u001b[0;32m----> 4\u001b[0m \u001b[39mfrom\u001b[39;00m \u001b[39mfastai\u001b[39;00m\u001b[39m.\u001b[39;00m\u001b[39mvision\u001b[39;00m\u001b[39m.\u001b[39;00m\u001b[39mall\u001b[39;00m \u001b[39mimport\u001b[39;00m \u001b[39m*\u001b[39m\n",
      "\u001b[0;31mModuleNotFoundError\u001b[0m: No module named 'fastai'"
     ]
    }
   ],
   "source": [
    "\n",
    "import numpy as np\n",
    "import pandas as pd\n",
    "import os\n",
    "from fastai.vision.all import *"
   ]
  },
  {
   "cell_type": "code",
   "execution_count": null,
   "metadata": {},
   "outputs": [],
   "source": [
    "DATASET_PATH = './aurgumented_data/'"
   ]
  },
  {
   "cell_type": "code",
   "execution_count": null,
   "metadata": {},
   "outputs": [
    {
     "name": "stdout",
     "output_type": "stream",
     "text": [
      "['chickenpox', 'corns', 'enczema', 'monkeypox', 'warts']\n",
      "                               image_id  label\n",
      "0       chickenpox/chickenpox98_270.jpg      0\n",
      "1       chickenpox/chickenpox88_270.jpg      0\n",
      "2        chickenpox/chickenpox97_90.jpg      0\n",
      "3  chickenpox/chickenpox5_flp_noise.jpg      0\n",
      "4            chickenpox/chickenpox8.png      0\n",
      "   class_name  label\n",
      "0  chickenpox      0\n",
      "1       corns      1\n",
      "2     enczema      2\n",
      "3   monkeypox      3\n",
      "4       warts      4\n"
     ]
    }
   ],
   "source": [
    "folders  = os.listdir(DATASET_PATH)\n",
    "folders.sort()\n",
    "print(folders)\n",
    "df_list = []\n",
    "labels_list = []\n",
    "for i,classes in enumerate(folders):\n",
    "  labels_list.append([classes,i])\n",
    "  files = os.listdir(DATASET_PATH+classes)\n",
    "  for items in files:\n",
    "    df_list.append([classes+\"/\"+items,i])\n",
    "\n",
    "df = pd.DataFrame(df_list,index = None, columns = ['image_id','label'])\n",
    "df.to_csv('dataset.csv',index = False)\n",
    "\n",
    "df2 = pd.DataFrame(labels_list,index = None, columns = ['class_name','label'])\n",
    "df2.to_csv('labels.csv',index = False)\n",
    "\n",
    "print(df.head())\n",
    "\n",
    "print(df2.head())"
   ]
  },
  {
   "cell_type": "code",
   "execution_count": null,
   "metadata": {},
   "outputs": [
    {
     "data": {
      "text/html": [
       "<div>\n",
       "<style scoped>\n",
       "    .dataframe tbody tr th:only-of-type {\n",
       "        vertical-align: middle;\n",
       "    }\n",
       "\n",
       "    .dataframe tbody tr th {\n",
       "        vertical-align: top;\n",
       "    }\n",
       "\n",
       "    .dataframe thead th {\n",
       "        text-align: right;\n",
       "    }\n",
       "</style>\n",
       "<table border=\"1\" class=\"dataframe\">\n",
       "  <thead>\n",
       "    <tr style=\"text-align: right;\">\n",
       "      <th></th>\n",
       "      <th>image_id</th>\n",
       "      <th>label</th>\n",
       "      <th>label_name</th>\n",
       "    </tr>\n",
       "  </thead>\n",
       "  <tbody>\n",
       "    <tr>\n",
       "      <th>0</th>\n",
       "      <td>chickenpox/chickenpox98_270.jpg</td>\n",
       "      <td>0</td>\n",
       "      <td>chickenpox</td>\n",
       "    </tr>\n",
       "    <tr>\n",
       "      <th>1</th>\n",
       "      <td>chickenpox/chickenpox88_270.jpg</td>\n",
       "      <td>0</td>\n",
       "      <td>chickenpox</td>\n",
       "    </tr>\n",
       "    <tr>\n",
       "      <th>2</th>\n",
       "      <td>chickenpox/chickenpox97_90.jpg</td>\n",
       "      <td>0</td>\n",
       "      <td>chickenpox</td>\n",
       "    </tr>\n",
       "    <tr>\n",
       "      <th>3</th>\n",
       "      <td>chickenpox/chickenpox5_flp_noise.jpg</td>\n",
       "      <td>0</td>\n",
       "      <td>chickenpox</td>\n",
       "    </tr>\n",
       "    <tr>\n",
       "      <th>4</th>\n",
       "      <td>chickenpox/chickenpox8.png</td>\n",
       "      <td>0</td>\n",
       "      <td>chickenpox</td>\n",
       "    </tr>\n",
       "  </tbody>\n",
       "</table>\n",
       "</div>"
      ],
      "text/plain": [
       "                               image_id  label  label_name\n",
       "0       chickenpox/chickenpox98_270.jpg      0  chickenpox\n",
       "1       chickenpox/chickenpox88_270.jpg      0  chickenpox\n",
       "2        chickenpox/chickenpox97_90.jpg      0  chickenpox\n",
       "3  chickenpox/chickenpox5_flp_noise.jpg      0  chickenpox\n",
       "4            chickenpox/chickenpox8.png      0  chickenpox"
      ]
     },
     "execution_count": 81,
     "metadata": {},
     "output_type": "execute_result"
    }
   ],
   "source": [
    "mapping = df2.to_dict()['class_name']\n",
    "df['label_name'] = [mapping[label] for label in df['label']]\n",
    "df.head()"
   ]
  },
  {
   "cell_type": "code",
   "execution_count": null,
   "metadata": {},
   "outputs": [],
   "source": [
    "df.to_csv('dataset_complete_with_labels.csv',index=False)"
   ]
  },
  {
   "cell_type": "code",
   "execution_count": null,
   "metadata": {},
   "outputs": [
    {
     "name": "stdout",
     "output_type": "stream",
     "text": [
      "(6345, 3)\n"
     ]
    },
    {
     "data": {
      "text/html": [
       "<div>\n",
       "<style scoped>\n",
       "    .dataframe tbody tr th:only-of-type {\n",
       "        vertical-align: middle;\n",
       "    }\n",
       "\n",
       "    .dataframe tbody tr th {\n",
       "        vertical-align: top;\n",
       "    }\n",
       "\n",
       "    .dataframe thead th {\n",
       "        text-align: right;\n",
       "    }\n",
       "</style>\n",
       "<table border=\"1\" class=\"dataframe\">\n",
       "  <thead>\n",
       "    <tr style=\"text-align: right;\">\n",
       "      <th></th>\n",
       "      <th>image_id</th>\n",
       "      <th>label</th>\n",
       "      <th>label_name</th>\n",
       "    </tr>\n",
       "  </thead>\n",
       "  <tbody>\n",
       "    <tr>\n",
       "      <th>0</th>\n",
       "      <td>chickenpox/chickenpox98_270.jpg</td>\n",
       "      <td>0</td>\n",
       "      <td>chickenpox</td>\n",
       "    </tr>\n",
       "    <tr>\n",
       "      <th>1</th>\n",
       "      <td>chickenpox/chickenpox88_270.jpg</td>\n",
       "      <td>0</td>\n",
       "      <td>chickenpox</td>\n",
       "    </tr>\n",
       "    <tr>\n",
       "      <th>2</th>\n",
       "      <td>chickenpox/chickenpox97_90.jpg</td>\n",
       "      <td>0</td>\n",
       "      <td>chickenpox</td>\n",
       "    </tr>\n",
       "    <tr>\n",
       "      <th>3</th>\n",
       "      <td>chickenpox/chickenpox5_flp_noise.jpg</td>\n",
       "      <td>0</td>\n",
       "      <td>chickenpox</td>\n",
       "    </tr>\n",
       "    <tr>\n",
       "      <th>4</th>\n",
       "      <td>chickenpox/chickenpox8.png</td>\n",
       "      <td>0</td>\n",
       "      <td>chickenpox</td>\n",
       "    </tr>\n",
       "  </tbody>\n",
       "</table>\n",
       "</div>"
      ],
      "text/plain": [
       "                               image_id  label  label_name\n",
       "0       chickenpox/chickenpox98_270.jpg      0  chickenpox\n",
       "1       chickenpox/chickenpox88_270.jpg      0  chickenpox\n",
       "2        chickenpox/chickenpox97_90.jpg      0  chickenpox\n",
       "3  chickenpox/chickenpox5_flp_noise.jpg      0  chickenpox\n",
       "4            chickenpox/chickenpox8.png      0  chickenpox"
      ]
     },
     "execution_count": 83,
     "metadata": {},
     "output_type": "execute_result"
    }
   ],
   "source": [
    "train = pd.read_csv(\"./dataset_complete_with_labels.csv\")\n",
    "print(train.shape)\n",
    "train.head()"
   ]
  },
  {
   "cell_type": "code",
   "execution_count": null,
   "metadata": {},
   "outputs": [
    {
     "data": {
      "text/html": [
       "<div>\n",
       "<style scoped>\n",
       "    .dataframe tbody tr th:only-of-type {\n",
       "        vertical-align: middle;\n",
       "    }\n",
       "\n",
       "    .dataframe tbody tr th {\n",
       "        vertical-align: top;\n",
       "    }\n",
       "\n",
       "    .dataframe thead th {\n",
       "        text-align: right;\n",
       "    }\n",
       "</style>\n",
       "<table border=\"1\" class=\"dataframe\">\n",
       "  <thead>\n",
       "    <tr style=\"text-align: right;\">\n",
       "      <th></th>\n",
       "      <th>image_id</th>\n",
       "      <th>label</th>\n",
       "      <th>label_name</th>\n",
       "    </tr>\n",
       "  </thead>\n",
       "  <tbody>\n",
       "    <tr>\n",
       "      <th>0</th>\n",
       "      <td>./aurgumented_data/chickenpox/chickenpox98_270...</td>\n",
       "      <td>0</td>\n",
       "      <td>chickenpox</td>\n",
       "    </tr>\n",
       "    <tr>\n",
       "      <th>1</th>\n",
       "      <td>./aurgumented_data/chickenpox/chickenpox88_270...</td>\n",
       "      <td>0</td>\n",
       "      <td>chickenpox</td>\n",
       "    </tr>\n",
       "    <tr>\n",
       "      <th>2</th>\n",
       "      <td>./aurgumented_data/chickenpox/chickenpox97_90.jpg</td>\n",
       "      <td>0</td>\n",
       "      <td>chickenpox</td>\n",
       "    </tr>\n",
       "    <tr>\n",
       "      <th>3</th>\n",
       "      <td>./aurgumented_data/chickenpox/chickenpox5_flp_...</td>\n",
       "      <td>0</td>\n",
       "      <td>chickenpox</td>\n",
       "    </tr>\n",
       "    <tr>\n",
       "      <th>4</th>\n",
       "      <td>./aurgumented_data/chickenpox/chickenpox8.png</td>\n",
       "      <td>0</td>\n",
       "      <td>chickenpox</td>\n",
       "    </tr>\n",
       "  </tbody>\n",
       "</table>\n",
       "</div>"
      ],
      "text/plain": [
       "                                            image_id  label  label_name\n",
       "0  ./aurgumented_data/chickenpox/chickenpox98_270...      0  chickenpox\n",
       "1  ./aurgumented_data/chickenpox/chickenpox88_270...      0  chickenpox\n",
       "2  ./aurgumented_data/chickenpox/chickenpox97_90.jpg      0  chickenpox\n",
       "3  ./aurgumented_data/chickenpox/chickenpox5_flp_...      0  chickenpox\n",
       "4      ./aurgumented_data/chickenpox/chickenpox8.png      0  chickenpox"
      ]
     },
     "execution_count": 84,
     "metadata": {},
     "output_type": "execute_result"
    }
   ],
   "source": [
    "train['image_id'] = DATASET_PATH + train['image_id'] \n",
    "train.head()"
   ]
  },
  {
   "cell_type": "code",
   "execution_count": null,
   "metadata": {},
   "outputs": [
    {
     "data": {
      "text/plain": [
       "<Axes: >"
      ]
     },
     "execution_count": 85,
     "metadata": {},
     "output_type": "execute_result"
    },
    {
     "data": {
      "image/png": "[encoded data removed]",
      "text/plain": [
       "<Figure size 640x480 with 1 Axes>"
      ]
     },
     "metadata": {},
     "output_type": "display_data"
    }
   ],
   "source": [
    "train['label_name'].value_counts().plot.bar()"
   ]
  },
  {
   "cell_type": "code",
   "execution_count": null,
   "metadata": {},
   "outputs": [
    {
     "ename": "NameError",
     "evalue": "name 'DataBlock' is not defined",
     "output_type": "error",
     "traceback": [
      "\u001b[0;31m---------------------------------------------------------------------------\u001b[0m",
      "\u001b[0;31mNameError\u001b[0m                                 Traceback (most recent call last)",
      "Cell \u001b[0;32mIn[86], line 4\u001b[0m\n\u001b[1;32m      1\u001b[0m \u001b[39mdef\u001b[39;00m \u001b[39mget_x\u001b[39m(row): \u001b[39mreturn\u001b[39;00m row[\u001b[39m'\u001b[39m\u001b[39mimage_id\u001b[39m\u001b[39m'\u001b[39m]\n\u001b[1;32m      2\u001b[0m \u001b[39mdef\u001b[39;00m \u001b[39mget_y\u001b[39m(row): \u001b[39mreturn\u001b[39;00m row[\u001b[39m'\u001b[39m\u001b[39mlabel\u001b[39m\u001b[39m'\u001b[39m]\n\u001b[0;32m----> 4\u001b[0m db \u001b[39m=\u001b[39m DataBlock(blocks \u001b[39m=\u001b[39m (ImageBlock, CategoryBlock),\n\u001b[1;32m      5\u001b[0m               get_x \u001b[39m=\u001b[39m get_x,\n\u001b[1;32m      6\u001b[0m                get_y \u001b[39m=\u001b[39m get_y,\n\u001b[1;32m      7\u001b[0m                splitter \u001b[39m=\u001b[39m RandomSplitter(valid_pct \u001b[39m=\u001b[39m \u001b[39m0.2\u001b[39m),\n\u001b[1;32m      8\u001b[0m                item_tfms \u001b[39m=\u001b[39m [Resize(\u001b[39m224\u001b[39m)],\n\u001b[1;32m      9\u001b[0m                batch_tfms \u001b[39m=\u001b[39m [RandomResizedCropGPU(\u001b[39m224\u001b[39m), \u001b[39m*\u001b[39maug_transforms(), \n\u001b[1;32m     10\u001b[0m                             Normalize\u001b[39m.\u001b[39mfrom_stats(\u001b[39m*\u001b[39mimagenet_stats)]            \n\u001b[1;32m     11\u001b[0m               )\n",
      "\u001b[0;31mNameError\u001b[0m: name 'DataBlock' is not defined"
     ]
    }
   ],
   "source": [
    "def get_x(row): return row['image_id']\n",
    "def get_y(row): return row['label']\n",
    "\n",
    "db = DataBlock(blocks = (ImageBlock, CategoryBlock),\n",
    "              get_x = get_x,\n",
    "               get_y = get_y,\n",
    "               splitter = RandomSplitter(valid_pct = 0.2),\n",
    "               item_tfms = [Resize(224)],\n",
    "               batch_tfms = [RandomResizedCropGPU(224), *aug_transforms(), \n",
    "                            Normalize.from_stats(*imagenet_stats)]            \n",
    "              )"
   ]
  },
  {
   "cell_type": "code",
   "execution_count": null,
   "metadata": {},
   "outputs": [
    {
     "ename": "NameError",
     "evalue": "name 'db' is not defined",
     "output_type": "error",
     "traceback": [
      "\u001b[0;31m---------------------------------------------------------------------------\u001b[0m",
      "\u001b[0;31mNameError\u001b[0m                                 Traceback (most recent call last)",
      "Cell \u001b[0;32mIn[87], line 1\u001b[0m\n\u001b[0;32m----> 1\u001b[0m dls \u001b[39m=\u001b[39m db\u001b[39m.\u001b[39mdataloaders(train, bs \u001b[39m=\u001b[39m \u001b[39m64\u001b[39m)\n",
      "\u001b[0;31mNameError\u001b[0m: name 'db' is not defined"
     ]
    }
   ],
   "source": [
    "\n",
    "dls = db.dataloaders(train, bs = 64)"
   ]
  },
  {
   "cell_type": "code",
   "execution_count": null,
   "metadata": {},
   "outputs": [
    {
     "name": "stdout",
     "output_type": "stream",
     "text": [
      "zsh:1: = not found\n"
     ]
    }
   ],
   "source": [
    "!pip install fastai== 2.0"
   ]
  }
 ],
 "metadata": {
  "kernelspec": {
   "display_name": "Python 3",
   "language": "python",
   "name": "python3"
  },
  "language_info": {
   "codemirror_mode": {
    "name": "ipython",
    "version": 3
   },
   "file_extension": ".py",
   "mimetype": "text/x-python",
   "name": "python",
   "nbconvert_exporter": "python",
   "pygments_lexer": "ipython3",
   "version": "3.9.16"
  }
 },
 "nbformat": 4,
 "nbformat_minor": 2
}
